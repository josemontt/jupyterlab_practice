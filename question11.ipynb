{
 "cells": [
  {
   "cell_type": "markdown",
   "id": "63c4e877-972b-4b35-b16a-ab3d9bf5f55c",
   "metadata": {},
   "source": [
    "# Jose Montt "
   ]
  },
  {
   "cell_type": "markdown",
   "id": "6bc08864-785b-4e1a-960e-a0d74d717152",
   "metadata": {},
   "source": [
    "Notebook for assignment 7"
   ]
  },
  {
   "cell_type": "code",
   "execution_count": 7,
   "id": "92d13c60-96f2-464b-ab20-a5baf16d7325",
   "metadata": {},
   "outputs": [],
   "source": [
    "import numpy as np"
   ]
  },
  {
   "cell_type": "code",
   "execution_count": 13,
   "id": "fbef1145-156d-4b9b-ac05-3cbbecd2c80f",
   "metadata": {},
   "outputs": [
    {
     "name": "stdout",
     "output_type": "stream",
     "text": [
      "5.0\n"
     ]
    }
   ],
   "source": [
    "def compute_mean(x):\t\t\t\n",
    "    \"\"\" \n",
    "    Compute the mean of the vector x\n",
    "    --------\n",
    "    Returns the mean value\n",
    "    --------\n",
    "    Examples\n",
    "    print(compute_mean([2, 4, 6, 8]))\n",
    "    5.0\n",
    "    \"\"\"\n",
    "    mean = np.mean(x)\n",
    "    return mean\n",
    "\n",
    "print(compute_mean([2, 4, 6, 8]))"
   ]
  },
  {
   "cell_type": "markdown",
   "id": "da712568-75c7-4f50-87d4-379e3f037f12",
   "metadata": {},
   "source": [
    "The Compute_mean function calculates the mean value of a list of numbers. The mathematical expression is as follows\n",
    "$$\\overline{x}=\\frac{x_1+x_2+\\cdots+x_n}{n}=\\frac{1}{n}\\sum_{i=1}^{n}x_i$$\n",
    "Where $x_i$ is i-th value and $n$ is total number of values in the list.\n",
    "\n"
   ]
  },
  {
   "cell_type": "code",
   "execution_count": null,
   "id": "97dc7848-958f-4831-b62f-482087915971",
   "metadata": {},
   "outputs": [],
   "source": []
  }
 ],
 "metadata": {
  "kernelspec": {
   "display_name": "Python [conda env:env-assignment-07]",
   "language": "python",
   "name": "conda-env-env-assignment-07-py"
  },
  "language_info": {
   "codemirror_mode": {
    "name": "ipython",
    "version": 3
   },
   "file_extension": ".py",
   "mimetype": "text/x-python",
   "name": "python",
   "nbconvert_exporter": "python",
   "pygments_lexer": "ipython3",
   "version": "3.13.0"
  }
 },
 "nbformat": 4,
 "nbformat_minor": 5
}
